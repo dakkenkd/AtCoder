{
 "cells": [
  {
   "cell_type": "code",
   "execution_count": 17,
   "id": "d02d4592",
   "metadata": {},
   "outputs": [
    {
     "name": "stdout",
     "output_type": "stream",
     "text": [
      "5 4\n",
      "4 2\n",
      "3 1\n",
      "5 2\n",
      "3 2\n"
     ]
    }
   ],
   "source": [
    "\n",
    "n, m = map(int, input().split())\n",
    "g = [[] for _ in range(n)]\n",
    "\n",
    "for _ in range(m):\n",
    "    a, b = map(int, input().split())\n",
    "    a -= 1\n",
    "    b -= 1\n",
    "    g[a].append(b)\n",
    "    g[b].append(a)\n"
   ]
  },
  {
   "cell_type": "code",
   "execution_count": 18,
   "id": "b6c7f3ea",
   "metadata": {},
   "outputs": [
    {
     "data": {
      "text/plain": [
       "2"
      ]
     },
     "execution_count": 18,
     "metadata": {},
     "output_type": "execute_result"
    }
   ],
   "source": [
    "solve(n, m, g)"
   ]
  },
  {
   "cell_type": "code",
   "execution_count": 15,
   "id": "df19f12f",
   "metadata": {},
   "outputs": [],
   "source": [
    "from collections import deque\n",
    "def solve(n, m, g):\n",
    "    ans = 0\n",
    "    dist = [-1] * n\n",
    "\n",
    "    def bfs(start, ans):\n",
    "        q = deque([start])\n",
    "        dist[start] = 0\n",
    "        f1 = set([start])\n",
    "        f2 = set()\n",
    "        nibu = True\n",
    "        while q:\n",
    "            v = q.popleft()\n",
    "            for vv in g[v]:\n",
    "                if dist[vv] == -1:\n",
    "                    dist[vv] = dist[v] ^ 1\n",
    "                    if dist[vv] == 0:\n",
    "                        f1.add(vv)\n",
    "                    else:\n",
    "                        f2.add(vv)\n",
    "                    q.append(vv)\n",
    "                else:\n",
    "                    if dist[v] ^ 1 != dist[vv]:\n",
    "                        nibu = False\n",
    "                    else:\n",
    "                        continue\n",
    "\n",
    "        if nibu == False: return -1, -1\n",
    "        for v in f1:\n",
    "            count = len(f2)\n",
    "            for vv in g[v]:\n",
    "                if vv in f2:\n",
    "                    count -= 1\n",
    "            ans += count\n",
    "\n",
    "        return len(f1) + len(f2), ans\n",
    "\n",
    "    L = []\n",
    "\n",
    "    for i in range(n):\n",
    "        if dist[i] != -1: continue\n",
    "        r, p = bfs(i, ans)\n",
    "        if r != -1:\n",
    "            L.append(r)\n",
    "            ans = p\n",
    "\n",
    "    s = sum(L)\n",
    "    for d in L:\n",
    "        s -= d\n",
    "        ans += s*d\n",
    "    return (ans)"
   ]
  },
  {
   "cell_type": "code",
   "execution_count": 31,
   "id": "7ae9111a",
   "metadata": {},
   "outputs": [
    {
     "name": "stdout",
     "output_type": "stream",
     "text": [
      "10 10 [{8, 9}, {5}, {9, 5, 6}, {8, 9}, {5, 6}, {1, 2, 4}, {2, 4}, set(), {0, 3}, {0, 2, 3}]\n",
      "15 19\n",
      "0 8\n",
      "0 9\n",
      "1 5\n",
      "2 5\n",
      "2 9\n",
      "2 6\n",
      "3 8\n",
      "3 9\n",
      "4 6\n",
      "4 5\n"
     ]
    }
   ],
   "source": [
    "import random\n",
    "\n",
    "\n",
    "for _ in range(100):\n",
    "    g = [set() for _ in range(10)]\n",
    "    c = 25\n",
    "    m = 0\n",
    "    edges = []\n",
    "    for i in range(5):\n",
    "        aite = []\n",
    "        for j in range(5):\n",
    "            x = random.randint(5, 10)\n",
    "            if x != 10:\n",
    "                if x not in g[i]:\n",
    "                    g[i].add(x)\n",
    "                    g[x].add(i)\n",
    "                    c -= 1\n",
    "                    m += 1\n",
    "                    edges.append((i, x))\n",
    "    n = 10\n",
    "    ch = solve(10, m, g)\n",
    "    if c != ch:\n",
    "        print(n, m, g)\n",
    "        print(c, ch)\n",
    "        for i,x in edges:\n",
    "            print(i, x)\n",
    "        break\n",
    "            "
   ]
  },
  {
   "cell_type": "code",
   "execution_count": 28,
   "id": "e6f29cde",
   "metadata": {},
   "outputs": [
    {
     "data": {
      "text/plain": [
       "(16, 12)"
      ]
     },
     "execution_count": 28,
     "metadata": {},
     "output_type": "execute_result"
    }
   ],
   "source": [
    "solve(10, m, g), c"
   ]
  },
  {
   "cell_type": "code",
   "execution_count": 27,
   "id": "2396e96c",
   "metadata": {},
   "outputs": [
    {
     "data": {
      "text/plain": [
       "(10,\n",
       " 13,\n",
       " [{7, 8},\n",
       "  {5, 9},\n",
       "  {5, 7, 8, 9},\n",
       "  {5, 7, 8},\n",
       "  {7, 9},\n",
       "  {1, 2, 3},\n",
       "  set(),\n",
       "  {0, 2, 3, 4},\n",
       "  {0, 2, 3},\n",
       "  {1, 2, 4}])"
      ]
     },
     "execution_count": 27,
     "metadata": {},
     "output_type": "execute_result"
    }
   ],
   "source": [
    "10, m, g"
   ]
  },
  {
   "cell_type": "code",
   "execution_count": null,
   "id": "9bfd4806",
   "metadata": {},
   "outputs": [],
   "source": []
  },
  {
   "cell_type": "code",
   "execution_count": 3,
   "id": "d08ae210",
   "metadata": {},
   "outputs": [
    {
     "name": "stdout",
     "output_type": "stream",
     "text": [
      "1\n",
      "1059872604593911\n",
      "104149 97711\n"
     ]
    }
   ],
   "source": [
    "import math\n",
    "\n",
    "er = [-1]*(10**6+100)\n",
    "\n",
    "for i in range(2, 10**6+100):\n",
    "    if er[i] != -1: continue\n",
    "    for j in range(i+i, 10**6+100, i):\n",
    "        er[j] = 1\n",
    "\n",
    "s = set()\n",
    "\n",
    "for i in range(2, 10**6+100):\n",
    "    if er[i] == -1:\n",
    "        s.add(i)\n",
    "\n",
    "\n",
    "t = int(input())\n",
    "for _ in range(t):\n",
    "    n = int(input())\n",
    "    p = -1\n",
    "    q = -1\n",
    "    for d in s:\n",
    "        if n%d == 0:\n",
    "            n //= d\n",
    "            if n % d == 0:\n",
    "                p = d\n",
    "                q = n//d\n",
    "            else:\n",
    "                p = math.isqrt(n)\n",
    "                q = d\n",
    "            break\n",
    "    print(int(p), q)"
   ]
  },
  {
   "cell_type": "code",
   "execution_count": null,
   "id": "0f1595a2",
   "metadata": {},
   "outputs": [],
   "source": []
  }
 ],
 "metadata": {
  "kernelspec": {
   "display_name": "Python 3 (ipykernel)",
   "language": "python",
   "name": "python3"
  },
  "language_info": {
   "codemirror_mode": {
    "name": "ipython",
    "version": 3
   },
   "file_extension": ".py",
   "mimetype": "text/x-python",
   "name": "python",
   "nbconvert_exporter": "python",
   "pygments_lexer": "ipython3",
   "version": "3.9.7"
  }
 },
 "nbformat": 4,
 "nbformat_minor": 5
}
