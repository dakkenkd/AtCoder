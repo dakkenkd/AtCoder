{
 "cells": [
  {
   "cell_type": "code",
   "execution_count": 10,
   "id": "bbc27034-b1e9-4537-ba5a-a04d5b0b2b7e",
   "metadata": {},
   "outputs": [
    {
     "data": {
      "text/plain": [
       "'10010111'"
      ]
     },
     "execution_count": 10,
     "metadata": {},
     "output_type": "execute_result"
    }
   ],
   "source": [
    "a = 151\n",
    "aa = bin(a)\n",
    "aa[2:]"
   ]
  },
  {
   "cell_type": "code",
   "execution_count": 11,
   "id": "e128b141-e9c7-4d03-832f-ce96abd38767",
   "metadata": {},
   "outputs": [
    {
     "data": {
      "text/plain": [
       "'11100001'"
      ]
     },
     "execution_count": 11,
     "metadata": {},
     "output_type": "execute_result"
    }
   ],
   "source": [
    "b = 225\n",
    "bb = bin(b)\n",
    "bb[2:]"
   ]
  },
  {
   "cell_type": "code",
   "execution_count": 17,
   "id": "8b7ae7b3-5fd9-4a77-b883-dbd479c0f06c",
   "metadata": {},
   "outputs": [
    {
     "data": {
      "text/plain": [
       "'1110110'"
      ]
     },
     "execution_count": 17,
     "metadata": {},
     "output_type": "execute_result"
    }
   ],
   "source": [
    "xor = bin(a^b)[2:]\n",
    "xor"
   ]
  },
  {
   "cell_type": "code",
   "execution_count": 18,
   "id": "520b64b1-d4c3-4d4a-9737-6923236edcd7",
   "metadata": {},
   "outputs": [
    {
     "data": {
      "text/plain": [
       "118"
      ]
     },
     "execution_count": 18,
     "metadata": {},
     "output_type": "execute_result"
    }
   ],
   "source": [
    "int(xor, 2)"
   ]
  },
  {
   "cell_type": "code",
   "execution_count": 20,
   "id": "6cd655a7-ef02-4d06-95c5-18fa378910aa",
   "metadata": {},
   "outputs": [
    {
     "data": {
      "text/plain": [
       "225"
      ]
     },
     "execution_count": 20,
     "metadata": {},
     "output_type": "execute_result"
    }
   ],
   "source": [
    "int(xor, 2) ^ a"
   ]
  },
  {
   "cell_type": "code",
   "execution_count": null,
   "id": "78ea8bdc-ffcb-48b3-ae6b-4a9545245310",
   "metadata": {},
   "outputs": [],
   "source": []
  }
 ],
 "metadata": {
  "kernelspec": {
   "display_name": "Python 3",
   "language": "python",
   "name": "python3"
  },
  "language_info": {
   "codemirror_mode": {
    "name": "ipython",
    "version": 3
   },
   "file_extension": ".py",
   "mimetype": "text/x-python",
   "name": "python",
   "nbconvert_exporter": "python",
   "pygments_lexer": "ipython3",
   "version": "3.8.10"
  }
 },
 "nbformat": 4,
 "nbformat_minor": 5
}
